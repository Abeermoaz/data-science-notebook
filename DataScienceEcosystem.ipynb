{
  "metadata": {
    "kernelspec": {
      "name": "python",
      "display_name": "Python (Pyodide)",
      "language": "python"
    },
    "language_info": {
      "codemirror_mode": {
        "name": "python",
        "version": 3
      },
      "file_extension": ".py",
      "mimetype": "text/x-python",
      "name": "python",
      "nbconvert_exporter": "python",
      "pygments_lexer": "ipython3",
      "version": "3.8"
    }
  },
  "nbformat_minor": 4,
  "nbformat": 4,
  "cells": [
    {
      "cell_type": "markdown",
      "source": "# Data Science Tools and Ecosystem",
      "metadata": {}
    },
    {
      "cell_type": "markdown",
      "source": "#### In this notebook, Data Science Tools and Ecosystem are summarized.",
      "metadata": {}
    },
    {
      "cell_type": "markdown",
      "source": "<p>Some of the popular languages that Data Scientists use are:</p>\n<ol><li>SQL</li>\n<li>R</li>\n<li>Python</li>",
      "metadata": {}
    },
    {
      "cell_type": "markdown",
      "source": "<p> Some of the commonly used libraries by Data Scientists include: </p>\n<ol>\n    <li>NumPy</li>\n    <li>Pandas</li>\n    <li>SciPy</li>",
      "metadata": {}
    },
    {
      "cell_type": "markdown",
      "source": "<table>\n    <tr>\n        <th>Data Science Tools</th>\n    </tr>\n    <tr>\n        <td>Jupyter Notebook</td>\n    </tr>\n    <tr>\n        <td>RStudio</td>\n    </tr>\n    <tr>\n        <td>Apache Zeppelin</td>\n    </tr>\n</table>",
      "metadata": {}
    },
    {
      "cell_type": "markdown",
      "source": "<table>\n    <tr>\n<th> Data Science Tools </th>\n    </tr>\n</tr>\n    <tr\n        <td> Jupyter Notebook </td>\n    </tr>\n<tr>\n    <td> Apache Zeppelin </td>\n</tr>\n    \n<tr><td> RStudio </td>\n</tr>\n\n",
      "metadata": {}
    },
    {
      "cell_type": "markdown",
      "source": "### Below are a few examples of evaluating arithmetic expressions in Python.",
      "metadata": {}
    },
    {
      "cell_type": "code",
      "source": "#This a simple arithmetic expression to mutiply then add integers.\n(3*4)+5",
      "metadata": {
        "trusted": true
      },
      "outputs": [
        {
          "execution_count": 24,
          "output_type": "execute_result",
          "data": {
            "text/plain": "17"
          },
          "metadata": {}
        }
      ],
      "execution_count": 24
    },
    {
      "cell_type": "code",
      "source": "#This will convert 200 minutes to hours by diving by 60.\nminutes = 200\nhour = 200/60\nprint(hour)",
      "metadata": {
        "trusted": true
      },
      "outputs": [
        {
          "name": "stdout",
          "text": "3.3333333333333335\n",
          "output_type": "stream"
        }
      ],
      "execution_count": 25
    },
    {
      "cell_type": "markdown",
      "source": "<p> <b> Objectives </b> </p>\n<ul> \n<li> List popular languages for Data Science </li>\n<li> Understand the role of data cleaning and preparation. </li>\n<li> Explore data visualization techniques </li>\n<li> Learn about machine learning algorithms </li>\n<li> Gain insights into model evaluation and selection </li>\n</ul>",
      "metadata": {}
    },
    {
      "cell_type": "markdown",
      "source": "## Author\nAbeer Moazzam",
      "metadata": {}
    },
    {
      "cell_type": "code",
      "source": "",
      "metadata": {
        "trusted": true
      },
      "outputs": [],
      "execution_count": null
    }
  ]
}